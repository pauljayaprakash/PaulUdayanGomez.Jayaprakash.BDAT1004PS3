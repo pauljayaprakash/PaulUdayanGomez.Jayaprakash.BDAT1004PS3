{
 "cells": [
  {
   "cell_type": "markdown",
   "id": "8f1364b4-4380-4818-b06d-3033ed40af46",
   "metadata": {},
   "source": [
    "Problem Set 3 "
   ]
  },
  {
   "cell_type": "markdown",
   "id": "aeabf91b-da29-42a7-814a-fe1a8154db0b",
   "metadata": {},
   "source": [
    "Question 1:\n",
    "Introduction:\n",
    "Special thanks to: https://github.com/justmarkham for sharing the dataset and\n",
    "materials.\n",
    "Occupations\n",
    "Step 1. Import the necessary libraries\n",
    "Step 2. Import the dataset from this address.\n",
    "Step 3. Assign it to a variable called users\n",
    "Step 4. Discover what is the mean age per occupation\n",
    "Step 5. Discover the Male ratio per occupation and sort it from the most to the least\n",
    "Step 6. For each occupation, calculate the minimum and maximum ages\n",
    "Step 7. For each combination of occupation and sex, calculate the mean age\n",
    "Step 8. For each occupation present the percentage of women and men"
   ]
  },
  {
   "cell_type": "code",
   "execution_count": 243,
   "id": "2d8eaf42-bd20-4a46-b9ce-4ef53f3d11a9",
   "metadata": {},
   "outputs": [],
   "source": [
    "#Step 1:\n",
    "import pandas as pd"
   ]
  },
  {
   "cell_type": "code",
   "execution_count": 245,
   "id": "6a1f87e9-8490-4d09-9073-2b0475e1b4e2",
   "metadata": {},
   "outputs": [],
   "source": [
    "#Step 2:\n",
    "url = 'https://raw.githubusercontent.com/justmarkham/DAT8/master/data/u.user'"
   ]
  },
  {
   "cell_type": "code",
   "execution_count": 247,
   "id": "b8df45a4-1f2e-44c7-a891-c6ae503c4a29",
   "metadata": {},
   "outputs": [],
   "source": [
    "#Step 3:\n",
    "users = pd.read_csv(url, delimiter='|')"
   ]
  },
  {
   "cell_type": "code",
   "execution_count": 249,
   "id": "203bb403-cb0f-400e-9744-d973ec064ea9",
   "metadata": {},
   "outputs": [
    {
     "name": "stdout",
     "output_type": "stream",
     "text": [
      "Mean Age per Occupation:\n",
      " occupation\n",
      "administrator    38.746835\n",
      "artist           31.392857\n",
      "doctor           43.571429\n",
      "educator         42.010526\n",
      "engineer         36.388060\n",
      "entertainment    29.222222\n",
      "executive        38.718750\n",
      "healthcare       41.562500\n",
      "homemaker        32.571429\n",
      "lawyer           36.750000\n",
      "librarian        40.000000\n",
      "marketing        37.615385\n",
      "none             26.555556\n",
      "other            34.523810\n",
      "programmer       33.121212\n",
      "retired          63.071429\n",
      "salesman         35.666667\n",
      "scientist        35.548387\n",
      "student          22.081633\n",
      "technician       33.148148\n",
      "writer           36.311111\n",
      "Name: age, dtype: float64\n"
     ]
    }
   ],
   "source": [
    "#Step 4:\n",
    "mean_age_per_occupation = users.groupby('occupation')['age'].mean()\n",
    "print(\"Mean Age per Occupation:\\n\",mean_age_per_occupation)"
   ]
  },
  {
   "cell_type": "code",
   "execution_count": 251,
   "id": "2f4287f4-f2ab-4467-a81a-3852b01a84be",
   "metadata": {},
   "outputs": [
    {
     "name": "stdout",
     "output_type": "stream",
     "text": [
      "\n",
      "Male Ratio per Occupation :\n",
      " occupation\n",
      "doctor           1.000000\n",
      "engineer         0.970149\n",
      "technician       0.962963\n",
      "retired          0.928571\n",
      "programmer       0.909091\n",
      "executive        0.906250\n",
      "scientist        0.903226\n",
      "entertainment    0.888889\n",
      "lawyer           0.833333\n",
      "salesman         0.750000\n",
      "educator         0.726316\n",
      "student          0.693878\n",
      "other            0.657143\n",
      "marketing        0.615385\n",
      "writer           0.577778\n",
      "none             0.555556\n",
      "administrator    0.544304\n",
      "artist           0.535714\n",
      "librarian        0.431373\n",
      "healthcare       0.312500\n",
      "homemaker        0.142857\n",
      "Name: male, dtype: float64\n"
     ]
    }
   ],
   "source": [
    "#Step 5:\n",
    "users['male'] = users['gender'].apply(lambda x: 1 if x == 'M' else 0)\n",
    "male_users_ratio = users.groupby('occupation')['male'].mean().sort_values(ascending=False)\n",
    "print(\"\\nMale Ratio per Occupation :\\n\",male_users_ratio)"
   ]
  },
  {
   "cell_type": "code",
   "execution_count": 253,
   "id": "56f46adf-eff9-41ac-87f8-63c60f03d3d2",
   "metadata": {},
   "outputs": [
    {
     "name": "stdout",
     "output_type": "stream",
     "text": [
      "\n",
      "Minimum and Maximum Ages per Occupation:\n",
      "                min  max\n",
      "occupation             \n",
      "administrator   21   70\n",
      "artist          19   48\n",
      "doctor          28   64\n",
      "educator        23   63\n",
      "engineer        22   70\n",
      "entertainment   15   50\n",
      "executive       22   69\n",
      "healthcare      22   62\n",
      "homemaker       20   50\n",
      "lawyer          21   53\n",
      "librarian       23   69\n",
      "marketing       24   55\n",
      "none            11   55\n",
      "other           13   64\n",
      "programmer      20   63\n",
      "retired         51   73\n",
      "salesman        18   66\n",
      "scientist       23   55\n",
      "student          7   42\n",
      "technician      21   55\n",
      "writer          18   60\n"
     ]
    }
   ],
   "source": [
    "#Step 6:\n",
    "min_max_age_per_occupation = users.groupby('occupation')['age'].agg(['min', 'max'])\n",
    "print(\"\\nMinimum and Maximum Ages per Occupation:\\n\",min_max_age_per_occupation)"
   ]
  },
  {
   "cell_type": "code",
   "execution_count": 41,
   "id": "3c6573de-9eed-4162-b5f8-7c1948c04ade",
   "metadata": {},
   "outputs": [
    {
     "name": "stdout",
     "output_type": "stream",
     "text": [
      "\n",
      "Gender mean Age per Occupation:\n",
      " occupation     gender\n",
      "administrator  F         40.638889\n",
      "               M         37.162791\n",
      "artist         F         30.307692\n",
      "               M         32.333333\n",
      "doctor         M         43.571429\n",
      "educator       F         39.115385\n",
      "               M         43.101449\n",
      "engineer       F         29.500000\n",
      "               M         36.600000\n",
      "entertainment  F         31.000000\n",
      "               M         29.000000\n",
      "executive      F         44.000000\n",
      "               M         38.172414\n",
      "healthcare     F         39.818182\n",
      "               M         45.400000\n",
      "homemaker      F         34.166667\n",
      "               M         23.000000\n",
      "lawyer         F         39.500000\n",
      "               M         36.200000\n",
      "librarian      F         40.000000\n",
      "               M         40.000000\n",
      "marketing      F         37.200000\n",
      "               M         37.875000\n",
      "none           F         36.500000\n",
      "               M         18.600000\n",
      "other          F         35.472222\n",
      "               M         34.028986\n",
      "programmer     F         32.166667\n",
      "               M         33.216667\n",
      "retired        F         70.000000\n",
      "               M         62.538462\n",
      "salesman       F         27.000000\n",
      "               M         38.555556\n",
      "scientist      F         28.333333\n",
      "               M         36.321429\n",
      "student        F         20.750000\n",
      "               M         22.669118\n",
      "technician     F         38.000000\n",
      "               M         32.961538\n",
      "writer         F         37.631579\n",
      "               M         35.346154\n",
      "Name: age, dtype: float64\n"
     ]
    }
   ],
   "source": [
    "#Step 7:\n",
    "gender_mean_age_per_occupation = users.groupby(['occupation', 'gender'])['age'].mean()\n",
    "print(\"\\nGender mean Age per Occupation:\\n\",gender_mean_age_per_occupation)"
   ]
  },
  {
   "cell_type": "code",
   "execution_count": 255,
   "id": "57a9c7f5-3439-4118-a534-7623a37eb787",
   "metadata": {},
   "outputs": [
    {
     "name": "stdout",
     "output_type": "stream",
     "text": [
      "\n",
      "Percentage of Women and Men per Occupation:\n",
      " gender                F         M\n",
      "occupation                       \n",
      "administrator  0.455696  0.544304\n",
      "artist         0.464286  0.535714\n",
      "doctor              NaN  1.000000\n",
      "educator       0.273684  0.726316\n",
      "engineer       0.029851  0.970149\n",
      "entertainment  0.111111  0.888889\n",
      "executive      0.093750  0.906250\n",
      "healthcare     0.687500  0.312500\n",
      "homemaker      0.857143  0.142857\n",
      "lawyer         0.166667  0.833333\n",
      "librarian      0.568627  0.431373\n",
      "marketing      0.384615  0.615385\n",
      "none           0.444444  0.555556\n",
      "other          0.342857  0.657143\n",
      "programmer     0.090909  0.909091\n",
      "retired        0.071429  0.928571\n",
      "salesman       0.250000  0.750000\n",
      "scientist      0.096774  0.903226\n",
      "student        0.306122  0.693878\n",
      "technician     0.037037  0.962963\n",
      "writer         0.422222  0.577778\n"
     ]
    }
   ],
   "source": [
    "#Step 8:\n",
    "gender_percentage_per_occupation = users.groupby('occupation')['gender'].value_counts(normalize=True).unstack()\n",
    "print(\"\\nPercentage of Women and Men per Occupation:\\n\",gender_percentage_per_occupation)"
   ]
  },
  {
   "cell_type": "markdown",
   "id": "50872502-38d3-4c59-bb7b-eeaa8ab9500d",
   "metadata": {},
   "source": [
    "Question 2:\n",
    "Euro Teams\n",
    "Step 1. Import the necessary libraries\n",
    "Step 2. Import the dataset from this address\n",
    "Step 3. Assign it to a variable called euro12\n",
    "Step 4. Select only the Goal column\n",
    "Step 5. How many team participated in the Euro2012?\n",
    "Step 6. What is the number of columns in the dataset?\n",
    "Step 7. View only the columns Team, Yellow Cards and Red Cards and assign them\n",
    "to a dataframe called discipline\n",
    "Step 8. Sort the teams by Red Cards, then to Yellow Cards\n",
    "Step 9. Calculate the mean Yellow Cards given per Team\n",
    "Step 10. Filter teams that scored more than 6 goalsStep 11. Select the teams that start\n",
    "with G\n",
    "Step 12. Select the first 7 columns\n",
    "Step 13. Select all columns except the last 3\n",
    "Step 14. Present only the Shooting Accuracy from England, Italy and Russia"
   ]
  },
  {
   "cell_type": "code",
   "execution_count": 257,
   "id": "c5865f89-1cc4-4413-b67c-2509b3cd5d38",
   "metadata": {},
   "outputs": [],
   "source": [
    "# Step 1:\n",
    "import pandas as pd"
   ]
  },
  {
   "cell_type": "code",
   "execution_count": 261,
   "id": "71f1753b-0942-43f4-a84a-f24c0b294e30",
   "metadata": {},
   "outputs": [],
   "source": [
    "# Step 2:\n",
    "url = 'https://raw.githubusercontent.com/guipsamora/pandas_exercises/master/02_Filtering_%26_Sorting/Euro12/Euro_2012_stats_TEAM.csv'"
   ]
  },
  {
   "cell_type": "code",
   "execution_count": 263,
   "id": "13d5aeb4-2693-4f33-bf24-0d2ec0a2ad6e",
   "metadata": {},
   "outputs": [],
   "source": [
    "#Step 3:\n",
    "euro12 = pd.read_csv(url)"
   ]
  },
  {
   "cell_type": "code",
   "execution_count": 265,
   "id": "d8c4249b-03dc-4744-9ec2-3e23abb31ac7",
   "metadata": {},
   "outputs": [
    {
     "name": "stdout",
     "output_type": "stream",
     "text": [
      "Goal Column:\n",
      "0      4\n",
      "1      4\n",
      "2      4\n",
      "3      5\n",
      "4      3\n",
      "5     10\n",
      "6      5\n",
      "7      6\n",
      "8      2\n",
      "9      2\n",
      "10     6\n",
      "11     1\n",
      "12     5\n",
      "13    12\n",
      "14     5\n",
      "15     2\n",
      "Name: Goals, dtype: int64\n"
     ]
    }
   ],
   "source": [
    "#Step 4:\n",
    "goals = euro12['Goals']\n",
    "print(\"Goal Column:\")\n",
    "print(goals)"
   ]
  },
  {
   "cell_type": "code",
   "execution_count": 267,
   "id": "bff921aa-c413-4864-9397-dd1d936679e9",
   "metadata": {},
   "outputs": [
    {
     "name": "stdout",
     "output_type": "stream",
     "text": [
      "\n",
      "Number of teams participated in Euro Cup 2012: 16\n"
     ]
    }
   ],
   "source": [
    "# Step 5 :\n",
    "team_count = euro12['Team'].nunique()\n",
    "print(\"\\nNumber of teams participated in Euro Cup 2012:\",team_count)"
   ]
  },
  {
   "cell_type": "code",
   "execution_count": 269,
   "id": "40ade441-b625-46a6-99d3-eb70efd4ea14",
   "metadata": {},
   "outputs": [
    {
     "name": "stdout",
     "output_type": "stream",
     "text": [
      "\n",
      "Number of columns in dataset: 35\n"
     ]
    }
   ],
   "source": [
    " #Step 6:\n",
    "column_count = euro12.shape[1]\n",
    "print(\"\\nNumber of columns in dataset:\", column_count)"
   ]
  },
  {
   "cell_type": "code",
   "execution_count": 271,
   "id": "9e323a1e-3735-46e2-a39d-1a54e39ae3c8",
   "metadata": {},
   "outputs": [
    {
     "name": "stdout",
     "output_type": "stream",
     "text": [
      "\n",
      "Discipline:\n",
      "                    Team  Yellow Cards  Red Cards\n",
      "0               Croatia             9          0\n",
      "1        Czech Republic             7          0\n",
      "2               Denmark             4          0\n",
      "3               England             5          0\n",
      "4                France             6          0\n",
      "5               Germany             4          0\n",
      "6                Greece             9          1\n",
      "7                 Italy            16          0\n",
      "8           Netherlands             5          0\n",
      "9                Poland             7          1\n",
      "10             Portugal            12          0\n",
      "11  Republic of Ireland             6          1\n",
      "12               Russia             6          0\n",
      "13                Spain            11          0\n",
      "14               Sweden             7          0\n",
      "15              Ukraine             5          0\n"
     ]
    }
   ],
   "source": [
    " #Step 7: \n",
    "discipline = euro12[['Team', 'Yellow Cards', 'Red Cards']]\n",
    "print(\"\\nDiscipline:\\n\", discipline)"
   ]
  },
  {
   "cell_type": "code",
   "execution_count": 273,
   "id": "fc9bfa14-1cb0-4db0-8043-c6219bc4c4bc",
   "metadata": {},
   "outputs": [
    {
     "name": "stdout",
     "output_type": "stream",
     "text": [
      "\n",
      "Teams sorted by Red Cards then Yellow Cards:\n",
      "                    Team  Yellow Cards  Red Cards\n",
      "6                Greece             9          1\n",
      "9                Poland             7          1\n",
      "11  Republic of Ireland             6          1\n",
      "7                 Italy            16          0\n",
      "10             Portugal            12          0\n",
      "13                Spain            11          0\n",
      "0               Croatia             9          0\n",
      "1        Czech Republic             7          0\n",
      "14               Sweden             7          0\n",
      "4                France             6          0\n",
      "12               Russia             6          0\n",
      "3               England             5          0\n",
      "8           Netherlands             5          0\n",
      "15              Ukraine             5          0\n",
      "2               Denmark             4          0\n",
      "5               Germany             4          0\n"
     ]
    }
   ],
   "source": [
    " #Step 8: \n",
    "team_sorting = discipline.sort_values(by=['Red Cards', 'Yellow Cards'], ascending=False)\n",
    "print(\"\\nTeams sorted by Red Cards then Yellow Cards:\\n\", team_sorting)"
   ]
  },
  {
   "cell_type": "code",
   "execution_count": 275,
   "id": "380e87a8-1938-4f94-a079-1911849e314f",
   "metadata": {},
   "outputs": [
    {
     "name": "stdout",
     "output_type": "stream",
     "text": [
      "\n",
      "Mean of Yellow Cards per Team: 7.4375\n"
     ]
    }
   ],
   "source": [
    " # Step 9: \n",
    "mean_yellow_cards = euro12['Yellow Cards'].mean()\n",
    "print(\"\\nMean of Yellow Cards per Team:\", mean_yellow_cards)"
   ]
  },
  {
   "cell_type": "code",
   "execution_count": 277,
   "id": "210a3a9d-e3d3-4a5d-b55f-d39df7b0a7a2",
   "metadata": {},
   "outputs": [
    {
     "name": "stdout",
     "output_type": "stream",
     "text": [
      "\n",
      "Teams that scored more than six goals:\n",
      " 5     Germany\n",
      "13      Spain\n",
      "Name: Team, dtype: object\n"
     ]
    }
   ],
   "source": [
    "# Step 10:\n",
    "Top_Performing_Teams = euro12[euro12['Goals'] > 6]['Team']\n",
    "print(\"\\nTeams that scored more than six goals:\\n\", Top_Performing_Teams)"
   ]
  },
  {
   "cell_type": "code",
   "execution_count": 279,
   "id": "bbdddbce-be10-41d4-9d0c-4d3d34e6314f",
   "metadata": {},
   "outputs": [
    {
     "name": "stdout",
     "output_type": "stream",
     "text": [
      "\n",
      "Teams starting with 'G':\n",
      "5    Germany\n",
      "6     Greece\n",
      "Name: Team, dtype: object\n"
     ]
    }
   ],
   "source": [
    " # Step 11: \n",
    "teams_starting_with_G = euro12[euro12['Team'].str.startswith('G')]['Team']\n",
    "print(\"\\nTeams starting with 'G':\")\n",
    "print(teams_starting_with_G)"
   ]
  },
  {
   "cell_type": "code",
   "execution_count": 281,
   "id": "4fe224ce-9af4-43bf-99da-cd7ce9a5e3a5",
   "metadata": {},
   "outputs": [
    {
     "name": "stdout",
     "output_type": "stream",
     "text": [
      "\n",
      "First 7 columns:\n",
      "                    Team  Goals  Shots on target  Shots off target  \\\n",
      "0               Croatia      4               13                12   \n",
      "1        Czech Republic      4               13                18   \n",
      "2               Denmark      4               10                10   \n",
      "3               England      5               11                18   \n",
      "4                France      3               22                24   \n",
      "5               Germany     10               32                32   \n",
      "6                Greece      5                8                18   \n",
      "7                 Italy      6               34                45   \n",
      "8           Netherlands      2               12                36   \n",
      "9                Poland      2               15                23   \n",
      "10             Portugal      6               22                42   \n",
      "11  Republic of Ireland      1                7                12   \n",
      "12               Russia      5                9                31   \n",
      "13                Spain     12               42                33   \n",
      "14               Sweden      5               17                19   \n",
      "15              Ukraine      2                7                26   \n",
      "\n",
      "   Shooting Accuracy % Goals-to-shots  Total shots (inc. Blocked)  \n",
      "0              51.9%            16.0%                          32  \n",
      "1              41.9%            12.9%                          39  \n",
      "2              50.0%            20.0%                          27  \n",
      "3              50.0%            17.2%                          40  \n",
      "4              37.9%             6.5%                          65  \n",
      "5              47.8%            15.6%                          80  \n",
      "6              30.7%            19.2%                          32  \n",
      "7              43.0%             7.5%                         110  \n",
      "8              25.0%             4.1%                          60  \n",
      "9              39.4%             5.2%                          48  \n",
      "10             34.3%             9.3%                          82  \n",
      "11             36.8%             5.2%                          28  \n",
      "12             22.5%            12.5%                          59  \n",
      "13             55.9%            16.0%                         100  \n",
      "14             47.2%            13.8%                          39  \n",
      "15             21.2%             6.0%                          38  \n"
     ]
    }
   ],
   "source": [
    " # Step 12: \n",
    "first_7_columns = euro12.iloc[:, :7]\n",
    "print(\"\\nFirst 7 columns:\\n\", first_7_columns)"
   ]
  },
  {
   "cell_type": "code",
   "execution_count": 283,
   "id": "af7801c9-b438-41b3-a1af-557508cab3f2",
   "metadata": {},
   "outputs": [
    {
     "name": "stdout",
     "output_type": "stream",
     "text": [
      "\n",
      "All columns except the last 3:\n",
      "                    Team  Goals  Shots on target  Shots off target  \\\n",
      "0               Croatia      4               13                12   \n",
      "1        Czech Republic      4               13                18   \n",
      "2               Denmark      4               10                10   \n",
      "3               England      5               11                18   \n",
      "4                France      3               22                24   \n",
      "5               Germany     10               32                32   \n",
      "6                Greece      5                8                18   \n",
      "7                 Italy      6               34                45   \n",
      "8           Netherlands      2               12                36   \n",
      "9                Poland      2               15                23   \n",
      "10             Portugal      6               22                42   \n",
      "11  Republic of Ireland      1                7                12   \n",
      "12               Russia      5                9                31   \n",
      "13                Spain     12               42                33   \n",
      "14               Sweden      5               17                19   \n",
      "15              Ukraine      2                7                26   \n",
      "\n",
      "   Shooting Accuracy % Goals-to-shots  Total shots (inc. Blocked)  \\\n",
      "0              51.9%            16.0%                          32   \n",
      "1              41.9%            12.9%                          39   \n",
      "2              50.0%            20.0%                          27   \n",
      "3              50.0%            17.2%                          40   \n",
      "4              37.9%             6.5%                          65   \n",
      "5              47.8%            15.6%                          80   \n",
      "6              30.7%            19.2%                          32   \n",
      "7              43.0%             7.5%                         110   \n",
      "8              25.0%             4.1%                          60   \n",
      "9              39.4%             5.2%                          48   \n",
      "10             34.3%             9.3%                          82   \n",
      "11             36.8%             5.2%                          28   \n",
      "12             22.5%            12.5%                          59   \n",
      "13             55.9%            16.0%                         100   \n",
      "14             47.2%            13.8%                          39   \n",
      "15             21.2%             6.0%                          38   \n",
      "\n",
      "    Hit Woodwork  Penalty goals  Penalties not scored  ...  Clean Sheets  \\\n",
      "0              0              0                     0  ...             0   \n",
      "1              0              0                     0  ...             1   \n",
      "2              1              0                     0  ...             1   \n",
      "3              0              0                     0  ...             2   \n",
      "4              1              0                     0  ...             1   \n",
      "5              2              1                     0  ...             1   \n",
      "6              1              1                     1  ...             1   \n",
      "7              2              0                     0  ...             2   \n",
      "8              2              0                     0  ...             0   \n",
      "9              0              0                     0  ...             0   \n",
      "10             6              0                     0  ...             2   \n",
      "11             0              0                     0  ...             0   \n",
      "12             2              0                     0  ...             0   \n",
      "13             0              1                     0  ...             5   \n",
      "14             3              0                     0  ...             1   \n",
      "15             0              0                     0  ...             0   \n",
      "\n",
      "    Blocks  Goals conceded Saves made  Saves-to-shots ratio  Fouls Won  \\\n",
      "0       10               3         13                 81.3%         41   \n",
      "1       10               6          9                 60.1%         53   \n",
      "2       10               5         10                 66.7%         25   \n",
      "3       29               3         22                 88.1%         43   \n",
      "4        7               5          6                 54.6%         36   \n",
      "5       11               6         10                 62.6%         63   \n",
      "6       23               7         13                 65.1%         67   \n",
      "7       18               7         20                 74.1%        101   \n",
      "8        9               5         12                 70.6%         35   \n",
      "9        8               3          6                 66.7%         48   \n",
      "10      11               4         10                 71.5%         73   \n",
      "11      23               9         17                 65.4%         43   \n",
      "12       8               3         10                 77.0%         34   \n",
      "13       8               1         15                 93.8%        102   \n",
      "14      12               5          8                 61.6%         35   \n",
      "15       4               4         13                 76.5%         48   \n",
      "\n",
      "    Fouls Conceded  Offsides  Yellow Cards  Red Cards  \n",
      "0               62         2             9          0  \n",
      "1               73         8             7          0  \n",
      "2               38         8             4          0  \n",
      "3               45         6             5          0  \n",
      "4               51         5             6          0  \n",
      "5               49        12             4          0  \n",
      "6               48        12             9          1  \n",
      "7               89        16            16          0  \n",
      "8               30         3             5          0  \n",
      "9               56         3             7          1  \n",
      "10              90        10            12          0  \n",
      "11              51        11             6          1  \n",
      "12              43         4             6          0  \n",
      "13              83        19            11          0  \n",
      "14              51         7             7          0  \n",
      "15              31         4             5          0  \n",
      "\n",
      "[16 rows x 32 columns]\n"
     ]
    }
   ],
   "source": [
    "# Step 13: \n",
    "all_except_last_3_columns = euro12.iloc[:, :-3]\n",
    "print(\"\\nAll columns except the last 3:\\n\", all_except_last_3_columns)"
   ]
  },
  {
   "cell_type": "code",
   "execution_count": 285,
   "id": "70127ef5-7814-4cb3-8983-dbfdafd31ed1",
   "metadata": {},
   "outputs": [
    {
     "name": "stdout",
     "output_type": "stream",
     "text": [
      "\n",
      "Shooting Accuracy for England, Italy, and Russia:\n",
      "        Team Shooting Accuracy\n",
      "3   England             50.0%\n",
      "7     Italy             43.0%\n",
      "12   Russia             22.5%\n"
     ]
    }
   ],
   "source": [
    "# Step 14: \n",
    "shooting_accuracy = euro12[euro12['Team'].isin(['England', 'Italy', 'Russia'])][['Team','Shooting Accuracy']]\n",
    "print(\"\\nShooting Accuracy for England, Italy, and Russia:\\n\", shooting_accuracy)"
   ]
  },
  {
   "cell_type": "markdown",
   "id": "9006ad2c-6852-4321-a5c3-921b1088a3d8",
   "metadata": {},
   "source": [
    "Question 3:\n",
    "Housing\n",
    "Step 1. Import the necessary libraries\n",
    "Step 2. Create 3 differents Series, each of length 100, as follows:\n",
    "• The first a random number from 1 to 4\n",
    "• The second a random number from 1 to 3\n",
    "• The third a random number from 10,000 to 30,000\n",
    "Step 3. Create a DataFrame by joinning the Series by column\n",
    "Step 4. Change the name of the columns to bedrs, bathrs, price_sqr_meter\n",
    "Step 5. Create a one column DataFrame with the values of the 3 Series and assign it\n",
    "to 'bigcolumn'\n",
    "Step 6. Ops it seems it is going only until index 99. Is it true?\n",
    "Step 7. Reindex the DataFrame so it goes from 0 to 299"
   ]
  },
  {
   "cell_type": "code",
   "execution_count": 289,
   "id": "94f8505e-8eaa-4def-a953-ea7b5fb31e97",
   "metadata": {},
   "outputs": [],
   "source": [
    "# Step 1 :\n",
    "import pandas as pd\n",
    "import numpy as np"
   ]
  },
  {
   "cell_type": "code",
   "execution_count": 291,
   "id": "4a4e2dd8-88e0-43ac-9ef2-a7809e967804",
   "metadata": {},
   "outputs": [],
   "source": [
    "# Step 2 :\n",
    "np.random.seed(60)  \n",
    "\n",
    "s1 = pd.Series(np.random.randint(1, 5, size=100))\n",
    "s2 = pd.Series(np.random.randint(1, 4, size=100))\n",
    "s3 = pd.Series(np.random.randint(10000, 30001, size=100))"
   ]
  },
  {
   "cell_type": "code",
   "execution_count": 293,
   "id": "2324abb2-00d7-4342-8712-4b249919be14",
   "metadata": {},
   "outputs": [],
   "source": [
    "# Step 3 :\n",
    "df = pd.concat([s1, s2, s3], axis=1)"
   ]
  },
  {
   "cell_type": "code",
   "execution_count": 295,
   "id": "22fbfc65-a37e-4de7-a2fd-12c159671c38",
   "metadata": {},
   "outputs": [
    {
     "name": "stdout",
     "output_type": "stream",
     "text": [
      "DataFrame with renamed columns:\n",
      "    bedrs  bathrs  price_sqr_meter\n",
      "0      2       3            28765\n",
      "1      2       3            12962\n",
      "2      3       2            13178\n",
      "3      3       3            18168\n",
      "4      4       1            24958\n"
     ]
    }
   ],
   "source": [
    "# Step 4  \n",
    "df.columns = ['bedrs', 'bathrs', 'price_sqr_meter']\n",
    "print(\"DataFrame with renamed columns:\\n\", df.head())"
   ]
  },
  {
   "cell_type": "code",
   "execution_count": 297,
   "id": "7017d900-7ebf-4d80-87f5-60c86ad4302f",
   "metadata": {},
   "outputs": [
    {
     "name": "stdout",
     "output_type": "stream",
     "text": [
      "\n",
      "Bigcolumn DataFrame:\n",
      "      bigcolumn\n",
      "0            2\n",
      "1            2\n",
      "2            3\n",
      "3            3\n",
      "4            4\n",
      "..         ...\n",
      "100          3\n",
      "101          3\n",
      "102          2\n",
      "103          3\n",
      "104          1\n",
      "\n",
      "[105 rows x 1 columns]\n"
     ]
    }
   ],
   "source": [
    "# Step 5 \n",
    "bigcolumn = pd.concat([s1, s2, s3], axis=0).reset_index(drop=True)\n",
    "bigcolumn_df = pd.DataFrame(bigcolumn, columns=['bigcolumn'])\n",
    "print(\"\\nBigcolumn DataFrame:\\n\", bigcolumn_df.head(105))  "
   ]
  },
  {
   "cell_type": "code",
   "execution_count": 299,
   "id": "f33dd3c8-1646-4eef-a33e-8924aebd88ea",
   "metadata": {},
   "outputs": [
    {
     "name": "stdout",
     "output_type": "stream",
     "text": [
      "\n",
      "Is the index going only until 99? False\n"
     ]
    }
   ],
   "source": [
    "# Step 6:\n",
    "print(\"\\nIs the index going only until 99?\", bigcolumn_df.index.max() == 99)\n",
    "    "
   ]
  },
  {
   "cell_type": "code",
   "execution_count": 301,
   "id": "8ccbe074-810c-43e6-900d-04940dc605ac",
   "metadata": {},
   "outputs": [
    {
     "name": "stdout",
     "output_type": "stream",
     "text": [
      "0          2\n",
      "1          2\n",
      "2          3\n",
      "3          3\n",
      "4          4\n",
      "       ...  \n",
      "295    23208\n",
      "296    16117\n",
      "297    18491\n",
      "298    15217\n",
      "299    21789\n",
      "Length: 300, dtype: int32\n"
     ]
    }
   ],
   "source": [
    "# Step 7: \n",
    "bigcolumn.reset_index(drop=True, inplace=True)\n",
    "bigcolumn = bigcolumn.reindex(range(300))\n",
    "print(bigcolumn)"
   ]
  },
  {
   "cell_type": "markdown",
   "id": "d52b83ac-e8e9-4937-afea-f579a90a82db",
   "metadata": {},
   "source": [
    "Question 4:\n",
    "Wind Statistics\n",
    "The data have been modified to contain some missing values, identified by NaN.\n",
    "Using pandas should make this exercise easier, in particular for the bonus question.\n",
    "You should be able to perform all of these operations without using a for loop or\n",
    "other looping construct.\n",
    "The data in 'wind.data' has the \n"
   ]
  },
  {
   "cell_type": "code",
   "execution_count": 305,
   "id": "51ef51eb-38bb-41c1-ab4e-e78ab67a04f7",
   "metadata": {},
   "outputs": [],
   "source": [
    "# Step 1 \n",
    "import pandas as pd\n",
    "import numpy as np"
   ]
  },
  {
   "cell_type": "code",
   "execution_count": 307,
   "id": "065164ad-5ec4-4c74-b528-db4b74dadc44",
   "metadata": {},
   "outputs": [
    {
     "name": "stdout",
     "output_type": "stream",
     "text": [
      "Initial DataFrame:\n",
      "   Yr  Mo  Dy    RPT    VAL    ROS    KIL    SHA   BIR    DUB    CLA    MUL  \\\n",
      "0  61   1   1  15.04  14.96  13.17   9.29    NaN  9.87  13.67  10.25  10.83   \n",
      "1  61   1   2  14.71    NaN  10.83   6.50  12.62  7.67  11.50  10.04   9.79   \n",
      "2  61   1   3  18.50  16.88  12.33  10.13  11.17  6.17  11.25    NaN   8.50   \n",
      "3  61   1   4  10.58   6.63  11.75   4.58   4.54  2.88   8.63   1.79   5.83   \n",
      "4  61   1   5  13.33  13.25  11.42   6.17  10.71  8.21  11.92   6.54  10.92   \n",
      "\n",
      "     CLO    BEL    MAL  \n",
      "0  12.58  18.50  15.04  \n",
      "1   9.67  17.54  13.83  \n",
      "2   7.67  12.75  12.71  \n",
      "3   5.88   5.46  10.88  \n",
      "4  10.34  12.92  11.83  \n",
      "\n",
      "Columns after renaming and year adjustment:\n",
      "Index(['Yr', 'month', 'day', 'RPT', 'VAL', 'ROS', 'KIL', 'SHA', 'BIR', 'DUB',\n",
      "       'CLA', 'MUL', 'CLO', 'BEL', 'MAL', 'year'],\n",
      "      dtype='object')\n",
      "\n",
      "Year Range:\n",
      "Min: 1961, Max: 1978\n",
      "\n",
      "Month Range:\n",
      "Min: 1, Max: 12\n",
      "\n",
      "Day Range:\n",
      "Min: 1, Max: 31\n",
      "\n",
      "Filtered DataFrame:\n",
      "      Yr  month  day    RPT    VAL    ROS    KIL    SHA    BIR    DUB    CLA  \\\n",
      "0     61      1    1  15.04  14.96  13.17   9.29    NaN   9.87  13.67  10.25   \n",
      "1     61      1    2  14.71    NaN  10.83   6.50  12.62   7.67  11.50  10.04   \n",
      "2     61      1    3  18.50  16.88  12.33  10.13  11.17   6.17  11.25    NaN   \n",
      "3     61      1    4  10.58   6.63  11.75   4.58   4.54   2.88   8.63   1.79   \n",
      "4     61      1    5  13.33  13.25  11.42   6.17  10.71   8.21  11.92   6.54   \n",
      "...   ..    ...  ...    ...    ...    ...    ...    ...    ...    ...    ...   \n",
      "6569  78     12   27  17.58  16.96  17.62   8.08  13.21  11.67  14.46  15.59   \n",
      "6570  78     12   28  13.21   5.46  13.46   5.00   8.12   9.42  14.33  16.25   \n",
      "6571  78     12   29  14.00  10.29  14.42   8.71   9.71  10.54  19.17  12.46   \n",
      "6572  78     12   30  18.50  14.04  21.29   9.13  12.75   9.71  18.08  12.87   \n",
      "6573  78     12   31  20.33  17.41  27.29   9.59  12.08  10.13  19.25  11.63   \n",
      "\n",
      "        MUL    CLO    BEL    MAL  year  \n",
      "0     10.83  12.58  18.50  15.04  1961  \n",
      "1      9.79   9.67  17.54  13.83  1961  \n",
      "2      8.50   7.67  12.75  12.71  1961  \n",
      "3      5.83   5.88   5.46  10.88  1961  \n",
      "4     10.92  10.34  12.92  11.83  1961  \n",
      "...     ...    ...    ...    ...   ...  \n",
      "6569  14.04  14.00  17.21  40.08  1978  \n",
      "6570  15.25  18.05  21.79  41.46  1978  \n",
      "6571  14.50  16.42  18.88  29.58  1978  \n",
      "6572  12.46  12.12  14.67  28.79  1978  \n",
      "6573  11.58  11.38  12.08  22.08  1978  \n",
      "\n",
      "[6574 rows x 16 columns]\n",
      "\n",
      "Final DataFrame with Date as index:\n",
      "              RPT    VAL    ROS    KIL    SHA    BIR    DUB    CLA    MUL  \\\n",
      "Date                                                                        \n",
      "1961-01-01  15.04  14.96  13.17   9.29    NaN   9.87  13.67  10.25  10.83   \n",
      "1961-01-02  14.71    NaN  10.83   6.50  12.62   7.67  11.50  10.04   9.79   \n",
      "1961-01-03  18.50  16.88  12.33  10.13  11.17   6.17  11.25    NaN   8.50   \n",
      "1961-01-04  10.58   6.63  11.75   4.58   4.54   2.88   8.63   1.79   5.83   \n",
      "1961-01-05  13.33  13.25  11.42   6.17  10.71   8.21  11.92   6.54  10.92   \n",
      "...           ...    ...    ...    ...    ...    ...    ...    ...    ...   \n",
      "1978-12-27  17.58  16.96  17.62   8.08  13.21  11.67  14.46  15.59  14.04   \n",
      "1978-12-28  13.21   5.46  13.46   5.00   8.12   9.42  14.33  16.25  15.25   \n",
      "1978-12-29  14.00  10.29  14.42   8.71   9.71  10.54  19.17  12.46  14.50   \n",
      "1978-12-30  18.50  14.04  21.29   9.13  12.75   9.71  18.08  12.87  12.46   \n",
      "1978-12-31  20.33  17.41  27.29   9.59  12.08  10.13  19.25  11.63  11.58   \n",
      "\n",
      "              CLO    BEL    MAL  \n",
      "Date                             \n",
      "1961-01-01  12.58  18.50  15.04  \n",
      "1961-01-02   9.67  17.54  13.83  \n",
      "1961-01-03   7.67  12.75  12.71  \n",
      "1961-01-04   5.88   5.46  10.88  \n",
      "1961-01-05  10.34  12.92  11.83  \n",
      "...           ...    ...    ...  \n",
      "1978-12-27  14.00  17.21  40.08  \n",
      "1978-12-28  18.05  21.79  41.46  \n",
      "1978-12-29  16.42  18.88  29.58  \n",
      "1978-12-30  12.12  14.67  28.79  \n",
      "1978-12-31  11.38  12.08  22.08  \n",
      "\n",
      "[6574 rows x 12 columns]\n"
     ]
    }
   ],
   "source": [
    "# Step 2 & 3 :\n",
    "\n",
    "data = pd.read_csv('wind.txt', sep=r'\\s+')\n",
    "\n",
    "\n",
    "if data.empty:\n",
    "    print(\"The DataFrame is empty. Please check the data loading step.\")\n",
    "else:\n",
    "    \n",
    "    print(\"Initial DataFrame:\")\n",
    "    print(data.head())\n",
    "\n",
    "    data['year'] = data['Yr'] + 1900\n",
    "\n",
    "    data.rename(columns={'Mo': 'month', 'Dy': 'day'}, inplace=True)\n",
    "\n",
    "    print(\"\\nColumns after renaming and year adjustment:\")\n",
    "    print(data.columns)\n",
    "\n",
    "    print(\"\\nYear Range:\")\n",
    "    print(f\"Min: {data['year'].min()}, Max: {data['year'].max()}\")\n",
    "\n",
    "    print(\"\\nMonth Range:\")\n",
    "    print(f\"Min: {data['month'].min()}, Max: {data['month'].max()}\")\n",
    "\n",
    "    print(\"\\nDay Range:\")\n",
    "    print(f\"Min: {data['day'].min()}, Max: {data['day'].max()}\")\n",
    "\n",
    "    valid_years = (data['year'] >= 1900) & (data['year'] <= 2100)\n",
    "    valid_months = (data['month'] >= 1) & (data['month'] <= 12)\n",
    "    valid_days = (data['day'] >= 1) & (data['day'] <= 31)\n",
    "\n",
    "    data = data[valid_years & valid_months & valid_days]\n",
    "\n",
    "    print(\"\\nFiltered DataFrame:\")\n",
    "    print(data)\n",
    "\n",
    "    data['Date'] = pd.to_datetime(data[['year', 'month', 'day']], errors='coerce')\n",
    "\n",
    "    data.dropna(subset=['Date'], inplace=True)\n",
    "\n",
    "    data.drop(columns=['year', 'month', 'day', 'Yr'], inplace=True)\n",
    "\n",
    "    data.set_index('Date', inplace=True)\n",
    "\n",
    "    print(\"\\nFinal DataFrame with Date as index:\")\n",
    "    print(data)\n"
   ]
  },
  {
   "cell_type": "code",
   "execution_count": 309,
   "id": "42768310-50a7-416f-abea-2ca6322e4bec",
   "metadata": {},
   "outputs": [],
   "source": [
    "# Step 4 :\n",
    "def fix_year(x):\n",
    "    if x.year > 1989:\n",
    "        return x.replace(year=x.year-100)\n",
    "    else:\n",
    "        return x\n",
    "\n",
    "data.index = data.index.map(fix_year)"
   ]
  },
  {
   "cell_type": "code",
   "execution_count": 311,
   "id": "32525f70-4aef-4f89-ae9d-fe9edb185c95",
   "metadata": {},
   "outputs": [
    {
     "name": "stdout",
     "output_type": "stream",
     "text": [
      "Data type is: datetime64[ns]\n"
     ]
    }
   ],
   "source": [
    "# Step 5\n",
    "print(\"Data type is:\",data.index.dtype) "
   ]
  },
  {
   "cell_type": "code",
   "execution_count": 313,
   "id": "3b2a66e7-9feb-4a91-9d62-a93657263b87",
   "metadata": {},
   "outputs": [
    {
     "name": "stdout",
     "output_type": "stream",
     "text": [
      "Missing values \n",
      " RPT    6\n",
      "VAL    3\n",
      "ROS    2\n",
      "KIL    5\n",
      "SHA    2\n",
      "BIR    0\n",
      "DUB    3\n",
      "CLA    2\n",
      "MUL    3\n",
      "CLO    1\n",
      "BEL    0\n",
      "MAL    4\n",
      "dtype: int64\n"
     ]
    }
   ],
   "source": [
    "# Step 6\n",
    "missing_values = data.isnull().sum()\n",
    "print(\"Missing values \\n\",missing_values)"
   ]
  },
  {
   "cell_type": "code",
   "execution_count": 315,
   "id": "8070440f-c7f8-44f5-8172-aa6e8ad50f5c",
   "metadata": {},
   "outputs": [
    {
     "name": "stdout",
     "output_type": "stream",
     "text": [
      "Total Non Missing Values: 78857\n"
     ]
    }
   ],
   "source": [
    "# Step 7\n",
    "non_missing_values = data.notnull().sum().sum()\n",
    "print(\"Total Non Missing Values:\",non_missing_values)"
   ]
  },
  {
   "cell_type": "code",
   "execution_count": 317,
   "id": "f4f40d17-c7b6-49ce-8fc6-064a6a1b82b5",
   "metadata": {},
   "outputs": [
    {
     "name": "stdout",
     "output_type": "stream",
     "text": [
      "Mean Windspeed is : 10.227982360836938\n"
     ]
    }
   ],
   "source": [
    "# Step 8\n",
    "mean_windspeed = data.mean().mean()\n",
    "print(\"Mean Windspeed is :\", mean_windspeed)"
   ]
  },
  {
   "cell_type": "code",
   "execution_count": 319,
   "id": "6bc2de43-e940-4a1e-bb9c-838fae6aa2c7",
   "metadata": {},
   "outputs": [
    {
     "name": "stdout",
     "output_type": "stream",
     "text": [
      "            RPT        VAL        ROS        KIL        SHA        BIR  \\\n",
      "min    0.670000   0.210000   1.500000   0.000000   0.130000   0.000000   \n",
      "max   35.800000  33.370000  33.840000  28.460000  37.540000  26.160000   \n",
      "mean  12.362987  10.644314  11.660526   6.306468  10.455834   7.092254   \n",
      "std    5.618413   5.267356   5.008450   3.605811   4.936125   3.968683   \n",
      "\n",
      "            DUB        CLA        MUL        CLO        BEL        MAL  \n",
      "min    0.000000   0.000000   0.000000   0.040000   0.130000   0.670000  \n",
      "max   30.370000  31.080000  25.880000  28.210000  42.380000  42.540000  \n",
      "mean   9.797343   8.495053   8.493590   8.707332  13.121007  15.599079  \n",
      "std    4.977555   4.499449   4.166872   4.503954   5.835037   6.699794  \n"
     ]
    }
   ],
   "source": [
    "# Step 9\n",
    "loc_stats = data.describe().loc[['min', 'max', 'mean', 'std']]\n",
    "print(loc_stats)"
   ]
  },
  {
   "cell_type": "code",
   "execution_count": 321,
   "id": "2edd17a0-ad71-4af4-9798-1e04829e5684",
   "metadata": {},
   "outputs": [
    {
     "name": "stdout",
     "output_type": "stream",
     "text": [
      "             min    max       mean       std\n",
      "Date                                        \n",
      "1961-01-01  9.29  18.50  13.018182  2.808875\n",
      "1961-01-02  6.50  17.54  11.336364  3.188994\n",
      "1961-01-03  6.17  18.50  11.641818  3.681912\n",
      "1961-01-04  1.79  11.75   6.619167  3.198126\n",
      "1961-01-05  6.17  13.33  10.630000  2.445356\n"
     ]
    }
   ],
   "source": [
    "# Step 10\n",
    "day_stats = pd.DataFrame({\n",
    "    'min': data.min(axis=1),\n",
    "    'max': data.max(axis=1),\n",
    "    'mean': data.mean(axis=1),\n",
    "    'std': data.std(axis=1)\n",
    "})\n",
    "print(day_stats.head()) "
   ]
  },
  {
   "cell_type": "code",
   "execution_count": 323,
   "id": "edf8cae6-2dc1-408b-8005-edd7cfaf8c01",
   "metadata": {},
   "outputs": [
    {
     "name": "stdout",
     "output_type": "stream",
     "text": [
      "January Average Windspeed \n",
      " RPT    14.847325\n",
      "VAL    12.914560\n",
      "ROS    13.299624\n",
      "KIL     7.199498\n",
      "SHA    11.667734\n",
      "BIR     8.054839\n",
      "DUB    11.819355\n",
      "CLA     9.512047\n",
      "MUL     9.543208\n",
      "CLO    10.053566\n",
      "BEL    14.550520\n",
      "MAL    18.028763\n",
      "dtype: float64\n"
     ]
    }
   ],
   "source": [
    "# Step 11\n",
    "Avg_january_windspeed = data[data.index.month == 1].mean()\n",
    "print(\"January Average Windspeed \\n\",Avg_january_windspeed)"
   ]
  },
  {
   "cell_type": "code",
   "execution_count": 325,
   "id": "5704df49-ea36-45c6-aebd-1fd31640ea81",
   "metadata": {},
   "outputs": [
    {
     "name": "stdout",
     "output_type": "stream",
     "text": [
      "Yearly Wind Frequency \n",
      "                   RPT        VAL        ROS       KIL        SHA       BIR  \\\n",
      "Date                                                                         \n",
      "1961-12-31  12.299583  10.351796  11.362369  6.958227  10.881763  7.729726   \n",
      "1962-12-31  12.246923  10.110438  11.732712  6.960440  10.657918  7.393068   \n",
      "1963-12-31  12.813452  10.836986  12.541151  7.330055  11.724110  8.434712   \n",
      "1964-12-31  12.363661  10.920164  12.104372  6.787787  11.454481  7.570874   \n",
      "1965-12-31  12.451370  11.075534  11.848767  6.858466  11.024795  7.478110   \n",
      "1966-12-31  13.461973  11.557205  12.020630  7.345726  11.805041  7.793671   \n",
      "1967-12-31  12.737151  10.990986  11.739397  7.143425  11.630740  7.368164   \n",
      "1968-12-31  11.835628  10.468197  11.409754  6.477678  10.760765  6.067322   \n",
      "1969-12-31  11.166356   9.723699  10.902000  5.767973   9.873918  6.189973   \n",
      "1970-12-31  12.600329  10.726932  11.730247  6.217178  10.567370  7.609452   \n",
      "1971-12-31  11.273123   9.095178  11.088329  5.241507   9.440329  6.097151   \n",
      "1972-12-31  12.463962  10.561311  12.058333  5.929699   9.430410  6.358825   \n",
      "1973-12-31  11.828466  10.680493  10.680493  5.547863   9.640877  6.548740   \n",
      "1974-12-31  13.643096  11.811781  12.336356  6.427041  11.110986  6.809781   \n",
      "1975-12-31  12.008575  10.293836  11.564712  5.269096   9.190082  5.668521   \n",
      "1976-12-31  11.737842  10.203115  10.761230  5.109426   8.846339  6.311038   \n",
      "1977-12-31  13.099616  11.144493  12.627836  6.073945  10.003836  8.586438   \n",
      "1978-12-31  12.504356  11.044274  11.380000  6.082356  10.167233  7.650658   \n",
      "\n",
      "                  DUB        CLA       MUL        CLO        BEL        MAL  \n",
      "Date                                                                         \n",
      "1961-12-31   9.733923   8.858788  8.647652   9.835577  13.502795  13.680773  \n",
      "1962-12-31  11.020712   8.793753  8.316822   9.676247  12.930685  14.323956  \n",
      "1963-12-31  11.075699  10.336548  8.903589  10.224438  13.638877  14.999014  \n",
      "1964-12-31  10.259153   9.467350  7.789016  10.207951  13.740546  14.910301  \n",
      "1965-12-31  10.618712   8.879918  7.907425   9.918082  12.964247  15.591644  \n",
      "1966-12-31  10.579808   8.835096  8.514438   9.768959  14.265836  16.307260  \n",
      "1967-12-31  10.652027   9.325616  8.645014   9.547425  14.774548  17.135945  \n",
      "1968-12-31   8.859180   8.255519  7.224945   7.832978  12.808634  15.017486  \n",
      "1969-12-31   8.564493   7.711397  7.924521   7.754384  12.621233  15.762904  \n",
      "1970-12-31   9.609890   8.334630  9.297616   8.289808  13.183644  16.456027  \n",
      "1971-12-31   8.385890   6.757315  7.915370   7.229753  12.208932  15.025233  \n",
      "1972-12-31   9.704508   7.680792  8.357295   7.515273  12.727377  15.028716  \n",
      "1973-12-31   8.482110   7.614274  8.245534   7.812411  12.169699  15.441096  \n",
      "1974-12-31  10.084603   9.896986  9.331753   8.736356  13.252959  16.947671  \n",
      "1975-12-31   8.562603   7.843836  8.797945   7.382822  12.631671  15.307863  \n",
      "1976-12-31   9.149126   7.146202  8.883716   7.883087  12.332377  15.471448  \n",
      "1977-12-31  11.523205   8.378384  9.098192   8.821616  13.459068  16.590849  \n",
      "1978-12-31   9.489342   8.800466  9.089753   8.301699  12.967397  16.771370  \n"
     ]
    }
   ],
   "source": [
    "# Step 12\n",
    "yearly_wind_frequency = data.resample('YE').mean()\n",
    "print(\"Yearly Wind Frequency \\n\",yearly_wind_frequency)"
   ]
  },
  {
   "cell_type": "code",
   "execution_count": 327,
   "id": "e3298283-b837-4087-b288-a55d77aea71d",
   "metadata": {},
   "outputs": [
    {
     "name": "stdout",
     "output_type": "stream",
     "text": [
      "Monthly Wind Frequency \n",
      "                   RPT        VAL        ROS       KIL        SHA        BIR  \\\n",
      "Date                                                                          \n",
      "1961-01-31  14.841333  11.988333  13.431613  7.736774  11.072759   8.588065   \n",
      "1961-02-28  16.269286  14.975357  14.441481  9.230741  13.852143  10.937500   \n",
      "1961-03-31  10.890000  11.296452  10.752903  7.284000  10.509355   8.866774   \n",
      "1961-04-30  10.722667   9.427667   9.998000  5.830667   8.435000   6.495000   \n",
      "1961-05-31   9.860968   8.850000  10.818065  5.905333   9.490323   6.574839   \n",
      "...               ...        ...        ...       ...        ...        ...   \n",
      "1978-08-31   9.645161   8.259355   9.032258  4.502903   7.368065   5.935161   \n",
      "1978-09-30  10.913667  10.895000  10.635000  5.725000  10.372000   9.278333   \n",
      "1978-10-31   9.897742   8.670968   9.295806  4.721290   8.525161   6.774194   \n",
      "1978-11-30  16.151667  14.802667  13.508000  7.317333  11.475000   8.743000   \n",
      "1978-12-31  16.175484  13.748065  15.635161  7.094839  11.398710   9.241613   \n",
      "\n",
      "                  DUB        CLA        MUL        CLO        BEL        MAL  \n",
      "Date                                                                          \n",
      "1961-01-31  11.184839   9.245333   9.085806  10.107419  13.880968  14.703226  \n",
      "1961-02-28  11.890714  11.846071  11.821429  12.714286  18.583214  15.411786  \n",
      "1961-03-31   9.644194   9.829677  10.294138  11.251935  16.410968  15.720000  \n",
      "1961-04-30   6.925333   7.094667   7.342333   7.237000  11.147333  10.278333  \n",
      "1961-05-31   7.604000   8.177097   8.039355   8.499355  11.900323  12.011613  \n",
      "...               ...        ...        ...        ...        ...        ...  \n",
      "1978-08-31   5.650323   5.417742   7.241290   5.536774  10.466774  12.054194  \n",
      "1978-09-30  10.790333   9.583000  10.069333   8.939000  15.680333  19.391333  \n",
      "1978-10-31   8.115484   7.337742   8.297742   8.243871  13.776774  17.150000  \n",
      "1978-11-30  11.492333   9.657333  10.701333  10.676000  17.404667  20.723000  \n",
      "1978-12-31  12.077419  10.194839  10.616774  11.028710  13.859677  21.371613  \n",
      "\n",
      "[216 rows x 12 columns]\n"
     ]
    }
   ],
   "source": [
    "# Step 13\n",
    "monthly_wind_frequency = data.resample('ME').mean()\n",
    "print(\"Monthly Wind Frequency \\n\",monthly_wind_frequency)"
   ]
  },
  {
   "cell_type": "code",
   "execution_count": 329,
   "id": "a3379f20-f71b-4ca3-9494-5bdd7d0ef5dc",
   "metadata": {},
   "outputs": [
    {
     "name": "stdout",
     "output_type": "stream",
     "text": [
      "Weekly Wind Frequency \n",
      "                   RPT        VAL        ROS        KIL        SHA        BIR  \\\n",
      "Date                                                                           \n",
      "1961-01-01  15.040000  14.960000  13.170000   9.290000        NaN   9.870000   \n",
      "1961-01-08  13.541429  11.486667  10.487143   6.417143   9.474286   6.435714   \n",
      "1961-01-15  12.468571   8.967143  11.958571   4.630000   7.351429   5.072857   \n",
      "1961-01-22  13.204286   9.862857  12.982857   6.328571   8.966667   7.417143   \n",
      "1961-01-29  19.880000  16.141429  18.225714  12.720000  17.432857  14.828571   \n",
      "...               ...        ...        ...        ...        ...        ...   \n",
      "1978-12-03  14.934286  11.232857  13.941429   5.565714  10.215714   8.618571   \n",
      "1978-12-10  20.740000  19.190000  17.034286   9.777143  15.287143  12.774286   \n",
      "1978-12-17  16.758571  14.692857  14.987143   6.917143  11.397143   7.272857   \n",
      "1978-12-24  11.155714   8.008571  13.172857   4.004286   7.825714   6.290000   \n",
      "1978-12-31  14.951429  11.801429  16.035714   6.507143   9.660000   8.620000   \n",
      "\n",
      "                  DUB        CLA        MUL        CLO        BEL        MAL  \n",
      "Date                                                                          \n",
      "1961-01-01  13.670000  10.250000  10.830000  12.580000  18.500000  15.040000  \n",
      "1961-01-08  11.061429   6.616667   8.434286   8.497143  12.481429  13.238571  \n",
      "1961-01-15   7.535714   6.820000   5.712857   7.571429  11.125714  11.024286  \n",
      "1961-01-22   9.257143   7.875714   7.145714   8.124286   9.821429  11.434286  \n",
      "1961-01-29  15.528571  15.160000  14.480000  15.640000  20.930000  22.530000  \n",
      "...               ...        ...        ...        ...        ...        ...  \n",
      "1978-12-03   9.642857   7.685714   9.011429   9.547143  11.835714  18.728571  \n",
      "1978-12-10  14.437143  12.488571  13.870000  14.082857  18.517143  23.061429  \n",
      "1978-12-17  10.208571   7.967143   9.168571   8.565714  11.102857  15.562857  \n",
      "1978-12-24   7.798571   8.667143   7.151429   8.072857  11.845714  18.977143  \n",
      "1978-12-31  13.708571  10.477143  10.868571  11.471429  12.947143  26.844286  \n",
      "\n",
      "[940 rows x 12 columns]\n"
     ]
    }
   ],
   "source": [
    "# Step 14\n",
    "weekly_wind_frequency = data.resample('W').mean()\n",
    "print(\"Weekly Wind Frequency \\n\",weekly_wind_frequency)"
   ]
  },
  {
   "cell_type": "code",
   "execution_count": 331,
   "id": "b66a340c-17ba-4fff-8a27-7d23243335ea",
   "metadata": {},
   "outputs": [
    {
     "name": "stdout",
     "output_type": "stream",
     "text": [
      "Weekly Wind Statistics \n",
      "                   min        max       mean       std\n",
      "Date                                                 \n",
      "1961-01-01   9.290000  18.500000  13.018182  2.808875\n",
      "1961-01-08   6.417143  13.541429   9.847659  2.601705\n",
      "1961-01-15   4.630000  12.468571   8.353214  2.719649\n",
      "1961-01-22   6.328571  13.204286   9.368413  2.224531\n",
      "1961-01-29  12.720000  22.530000  16.958095  2.915635\n",
      "1961-02-05   8.247143  16.827143  11.800357  2.807310\n",
      "1961-02-12  10.774286  21.832857  15.891548  3.147412\n",
      "1961-02-19   9.542857  21.167143  13.726825  3.105819\n",
      "1961-02-26   8.524286  16.304286  12.604286  2.364323\n",
      "1961-03-05   7.834286  17.842857  11.766766  2.535336\n",
      "1961-03-12   6.881429  16.701429  10.612579  2.746233\n",
      "1961-03-19   7.084286  19.350000  11.756310  3.320318\n",
      "1961-03-26   6.648571  18.134286  10.462857  3.071975\n",
      "1961-04-02   7.300000  13.900000  10.268433  1.883742\n",
      "1961-04-09   5.958571  13.607143   9.412381  2.399840\n",
      "1961-04-16   4.947143   9.482857   6.845595  1.803831\n",
      "1961-04-23   7.768571  13.620000  10.146667  1.895943\n",
      "1961-04-30   4.801429  10.117143   7.445000  1.864130\n",
      "1961-05-07   9.952857  17.548571  13.164048  2.223149\n",
      "1961-05-14   5.295714  10.421429   8.059802  1.491250\n",
      "1961-05-21   4.258571  12.042857   7.470258  2.327906\n",
      "1961-05-28   3.748333  11.697143   7.177956  2.370473\n",
      "1961-06-04   6.310000  13.597143   9.244643  2.167131\n",
      "1961-06-11   5.214286  12.250000   8.459048  2.136900\n",
      "1961-06-18   6.520000  15.351429  10.173810  2.676791\n",
      "1961-06-25   5.478571  17.410000  10.066548  3.494271\n",
      "1961-07-02   6.507143  14.535714   9.528810  2.311594\n",
      "1961-07-09   7.220000  15.987143  10.580099  2.505843\n",
      "1961-07-16   8.412857  16.680000  11.666190  2.483875\n",
      "1961-07-23   2.715714   8.415714   5.350952  1.726225\n",
      "1961-07-30   5.727143  13.761429   9.431071  2.279097\n",
      "1961-08-06   6.238571  13.760000   9.446786  2.099734\n",
      "1961-08-13   5.078571  10.934286   8.199206  1.855421\n",
      "1961-08-20   8.600000  16.626667  12.668413  2.466378\n",
      "1961-08-27   7.108571  16.485714  12.061786  2.649263\n",
      "1961-09-03   5.642857  13.664286   8.437381  2.300787\n",
      "1961-09-10   5.685714  11.034286   8.186786  1.866173\n",
      "1961-09-17  10.442857  19.878571  14.510833  3.058931\n",
      "1961-09-24   4.851667  11.018571   7.247937  1.958569\n",
      "1961-10-01   8.370000  16.208571  11.771091  2.750518\n",
      "1961-10-08   5.262857  11.410000   8.034167  2.148981\n",
      "1961-10-15   6.578571  15.260000   9.828115  2.680505\n",
      "1961-10-22  10.721429  23.641429  15.479643  3.509702\n",
      "1961-10-29   8.408571  18.404286  12.688631  3.139748\n",
      "1961-11-05   7.541429  19.195714  11.612857  3.253959\n",
      "1961-11-12   4.220000  10.858571   7.487262  2.516385\n",
      "1961-11-19   4.501429  16.988571   7.647024  3.534858\n",
      "1961-11-26   4.970000  12.732857   8.755516  2.472631\n",
      "1961-12-03   6.245714  14.725714   9.754762  2.724343\n",
      "1961-12-10   8.624286  17.362857  13.145357  2.904971\n",
      "1961-12-17   8.697143  15.112857  12.703095  2.110713\n",
      "1961-12-24   5.517143  15.757143   9.315714  3.174787\n"
     ]
    }
   ],
   "source": [
    "# Step 15\n",
    "weekly_wind_stats = pd.DataFrame({\n",
    "    'min': weekly_wind_frequency.min(axis=1),\n",
    "    'max': weekly_wind_frequency.max(axis=1),\n",
    "    'mean': weekly_wind_frequency.mean(axis=1),\n",
    "    'std': weekly_wind_frequency.std(axis=1)\n",
    "})\n",
    "\n",
    "weekly_wind_stats_first_52 = weekly_wind_stats.iloc[:52]\n",
    "print(\"Weekly Wind Statistics \\n\",weekly_wind_stats_first_52)"
   ]
  },
  {
   "cell_type": "markdown",
   "id": "8954d4f5-11b4-47cd-b419-dc0a45b1ec26",
   "metadata": {},
   "source": [
    "Question 5:\n",
    "Step 1. Import the necessary libraries\n",
    "Step 2. Import the dataset from this address.\n",
    "Step 3. Assign it to a variable called chipo.\n",
    "Step 4. See the first 10 entries\n",
    "Step 5. What is the number of observations in the dataset?\n",
    "Step 6. What is the number of columns in the dataset?\n",
    "Step 7. Print the name of all the columns.\n",
    "Step 8. How is the dataset indexed?\n",
    "Step 9. Which was the most-ordered item?\n",
    "Step 10. For the most-ordered item, how many items were ordered?\n",
    "Step 11. What was the most ordered item in the choice_description column?\n",
    "Step 12. How many items were orderd in total?\n",
    "Step 13.\n",
    "• Turn the item price into a float\n",
    "• Check the item price type\n",
    "• Create a lambda function and change the type of item price\n",
    "• Check the item price type\n",
    "Step 14. How much was the revenue for the period in the dataset?\n",
    "Step 15. How many orders were made in the period?\n",
    "Step 16. What is the average revenue amount per order?\n",
    "Step 17. How many different items are sold?"
   ]
  },
  {
   "cell_type": "code",
   "execution_count": 333,
   "id": "4532a5da-7bc1-4dbe-b498-71f210cb6f1e",
   "metadata": {},
   "outputs": [],
   "source": [
    "# Step 1 \n",
    "import pandas as pd\n",
    "import numpy as np"
   ]
  },
  {
   "cell_type": "code",
   "execution_count": 335,
   "id": "67227d82-341b-4423-9abc-93a2573d1e88",
   "metadata": {},
   "outputs": [],
   "source": [
    "# Step 2 \n",
    "url = 'https://raw.githubusercontent.com/justmarkham/DAT8/master/data/chipotle.tsv'"
   ]
  },
  {
   "cell_type": "code",
   "execution_count": 339,
   "id": "878df8d7-e1fc-4b3b-a545-24c906290e5f",
   "metadata": {},
   "outputs": [],
   "source": [
    "# Step 3 \n",
    "chipo = pd.read_csv(url, sep='\\t')"
   ]
  },
  {
   "cell_type": "code",
   "execution_count": 341,
   "id": "ca68d5ed-09c9-455a-aaf0-5d9b5add0d3a",
   "metadata": {},
   "outputs": [
    {
     "name": "stdout",
     "output_type": "stream",
     "text": [
      "First 10 entries of dataset \n",
      "    order_id  quantity                              item_name  \\\n",
      "0         1         1           Chips and Fresh Tomato Salsa   \n",
      "1         1         1                                   Izze   \n",
      "2         1         1                       Nantucket Nectar   \n",
      "3         1         1  Chips and Tomatillo-Green Chili Salsa   \n",
      "4         2         2                           Chicken Bowl   \n",
      "5         3         1                           Chicken Bowl   \n",
      "6         3         1                          Side of Chips   \n",
      "7         4         1                          Steak Burrito   \n",
      "8         4         1                       Steak Soft Tacos   \n",
      "9         5         1                          Steak Burrito   \n",
      "\n",
      "                                  choice_description item_price  \n",
      "0                                                NaN     $2.39   \n",
      "1                                       [Clementine]     $3.39   \n",
      "2                                            [Apple]     $3.39   \n",
      "3                                                NaN     $2.39   \n",
      "4  [Tomatillo-Red Chili Salsa (Hot), [Black Beans...    $16.98   \n",
      "5  [Fresh Tomato Salsa (Mild), [Rice, Cheese, Sou...    $10.98   \n",
      "6                                                NaN     $1.69   \n",
      "7  [Tomatillo Red Chili Salsa, [Fajita Vegetables...    $11.75   \n",
      "8  [Tomatillo Green Chili Salsa, [Pinto Beans, Ch...     $9.25   \n",
      "9  [Fresh Tomato Salsa, [Rice, Black Beans, Pinto...     $9.25   \n"
     ]
    }
   ],
   "source": [
    "# Step 4 \n",
    "print(\"First 10 entries of dataset \\n\",chipo.head(10))"
   ]
  },
  {
   "cell_type": "code",
   "execution_count": 343,
   "id": "99b4d541-30c1-43c1-ac85-d64df68e29b7",
   "metadata": {},
   "outputs": [
    {
     "name": "stdout",
     "output_type": "stream",
     "text": [
      "No.of Observations: 4622\n"
     ]
    }
   ],
   "source": [
    "# Step 5 \n",
    "print(\"No.of Observations:\",chipo.shape[0])"
   ]
  },
  {
   "cell_type": "code",
   "execution_count": 345,
   "id": "557dcd2b-ed0e-4e42-8fce-3d5fcb47c69a",
   "metadata": {},
   "outputs": [
    {
     "name": "stdout",
     "output_type": "stream",
     "text": [
      "No.of Columns: 5\n"
     ]
    }
   ],
   "source": [
    "# Step 6\n",
    "num_columns = chipo.shape[1]\n",
    "print(\"No.of Columns:\",num_columns)"
   ]
  },
  {
   "cell_type": "code",
   "execution_count": 347,
   "id": "2b097aad-2bfc-49f3-9af1-0d2b8e15abaa",
   "metadata": {},
   "outputs": [
    {
     "name": "stdout",
     "output_type": "stream",
     "text": [
      "The Columns Are: Index(['order_id', 'quantity', 'item_name', 'choice_description',\n",
      "       'item_price'],\n",
      "      dtype='object')\n"
     ]
    }
   ],
   "source": [
    "# Step 7 \n",
    "print(\"The Columns Are:\",chipo.columns)"
   ]
  },
  {
   "cell_type": "code",
   "execution_count": 349,
   "id": "5ae6605a-ba96-414a-ae34-ac449884faf1",
   "metadata": {},
   "outputs": [
    {
     "name": "stdout",
     "output_type": "stream",
     "text": [
      "Index of given dataset: RangeIndex(start=0, stop=4622, step=1)\n"
     ]
    }
   ],
   "source": [
    "# Step 8\n",
    "print(\"Index of given dataset:\",chipo.index)"
   ]
  },
  {
   "cell_type": "code",
   "execution_count": 351,
   "id": "3f644d7e-3dbd-48bc-bfb1-833f840b7fe2",
   "metadata": {},
   "outputs": [
    {
     "name": "stdout",
     "output_type": "stream",
     "text": [
      "Most ordered item: \n",
      "               quantity\n",
      "item_name             \n",
      "Chicken Bowl       761\n"
     ]
    }
   ],
   "source": [
    "# Step 9 \n",
    "most_ordered_item = chipo.groupby('item_name').agg({'quantity': 'sum'}).sort_values('quantity', ascending=False).head(1)\n",
    "print(\"Most ordered item: \\n\",most_ordered_item)"
   ]
  },
  {
   "cell_type": "code",
   "execution_count": 353,
   "id": "6689e9a6-2124-42b2-a5f4-e927484f861a",
   "metadata": {},
   "outputs": [
    {
     "name": "stdout",
     "output_type": "stream",
     "text": [
      " No.of items ordered: 761\n"
     ]
    }
   ],
   "source": [
    "# Step 10 \n",
    "print(\" No.of items ordered:\",most_ordered_item['quantity'].values[0])"
   ]
  },
  {
   "cell_type": "code",
   "execution_count": 355,
   "id": "7e57d120-fd41-45f0-8075-492966ccfdf6",
   "metadata": {},
   "outputs": [
    {
     "name": "stdout",
     "output_type": "stream",
     "text": [
      "Most ordered item: \n",
      "                     quantity\n",
      "choice_description          \n",
      "[Diet Coke]              159\n"
     ]
    }
   ],
   "source": [
    "# Step 11 \n",
    "most_ordered_item = chipo.groupby('choice_description').agg({'quantity': 'sum'}).sort_values('quantity', ascending=False).head(1)\n",
    "print(\"Most ordered item: \\n\",most_ordered_item)"
   ]
  },
  {
   "cell_type": "code",
   "execution_count": 357,
   "id": "a38831d2-e683-4694-a096-327ce4fe7240",
   "metadata": {},
   "outputs": [
    {
     "name": "stdout",
     "output_type": "stream",
     "text": [
      "Total items ordered: 4972\n"
     ]
    }
   ],
   "source": [
    "# Step 12 \n",
    "total_items_ordered = chipo['quantity'].sum()\n",
    "print(\"Total items ordered:\",total_items_ordered)"
   ]
  },
  {
   "cell_type": "code",
   "execution_count": 359,
   "id": "6f503b7a-abda-42df-bfdc-41b6413a1b2d",
   "metadata": {},
   "outputs": [
    {
     "name": "stdout",
     "output_type": "stream",
     "text": [
      "      order_id  quantity                              item_name  \\\n",
      "0            1         1           Chips and Fresh Tomato Salsa   \n",
      "1            1         1                                   Izze   \n",
      "2            1         1                       Nantucket Nectar   \n",
      "3            1         1  Chips and Tomatillo-Green Chili Salsa   \n",
      "4            2         2                           Chicken Bowl   \n",
      "...        ...       ...                                    ...   \n",
      "4617      1833         1                          Steak Burrito   \n",
      "4618      1833         1                          Steak Burrito   \n",
      "4619      1834         1                     Chicken Salad Bowl   \n",
      "4620      1834         1                     Chicken Salad Bowl   \n",
      "4621      1834         1                     Chicken Salad Bowl   \n",
      "\n",
      "                                     choice_description  item_price  \n",
      "0                                                   NaN        2.39  \n",
      "1                                          [Clementine]        3.39  \n",
      "2                                               [Apple]        3.39  \n",
      "3                                                   NaN        2.39  \n",
      "4     [Tomatillo-Red Chili Salsa (Hot), [Black Beans...       16.98  \n",
      "...                                                 ...         ...  \n",
      "4617  [Fresh Tomato Salsa, [Rice, Black Beans, Sour ...       11.75  \n",
      "4618  [Fresh Tomato Salsa, [Rice, Sour Cream, Cheese...       11.75  \n",
      "4619  [Fresh Tomato Salsa, [Fajita Vegetables, Pinto...       11.25  \n",
      "4620  [Fresh Tomato Salsa, [Fajita Vegetables, Lettu...        8.75  \n",
      "4621  [Fresh Tomato Salsa, [Fajita Vegetables, Pinto...        8.75  \n",
      "\n",
      "[4622 rows x 5 columns]\n",
      "Item price type: float64\n"
     ]
    }
   ],
   "source": [
    "# Step 13:\n",
    "chipo['item_price'] = chipo['item_price'].astype(str)\n",
    "chipo['item_price'] = chipo['item_price'].str.replace(r'\\$', '', regex=True).astype(float)\n",
    "print(chipo)\n",
    "print(\"Item price type:\", chipo['item_price'].dtype)"
   ]
  },
  {
   "cell_type": "code",
   "execution_count": 361,
   "id": "f161fb70-7af3-4279-b542-b444cd1bd1c8",
   "metadata": {},
   "outputs": [
    {
     "name": "stdout",
     "output_type": "stream",
     "text": [
      "Revenue: $39237.02\n"
     ]
    }
   ],
   "source": [
    "# Step 14 :\n",
    "revenue = (chipo['quantity'] * chipo['item_price']).sum()\n",
    "print(f\"Revenue: ${revenue:.2f}\")"
   ]
  },
  {
   "cell_type": "code",
   "execution_count": 363,
   "id": "debaead1-6248-4512-951c-38209138651d",
   "metadata": {},
   "outputs": [
    {
     "name": "stdout",
     "output_type": "stream",
     "text": [
      "Total orders: 1834\n"
     ]
    }
   ],
   "source": [
    "# Step 15:\n",
    "total_orders = chipo['order_id'].nunique()\n",
    "print(\"Total orders:\", total_orders)"
   ]
  },
  {
   "cell_type": "code",
   "execution_count": 365,
   "id": "df6dfd73-79f9-4d0b-93ac-568334c7c034",
   "metadata": {},
   "outputs": [
    {
     "name": "stdout",
     "output_type": "stream",
     "text": [
      "Average revenue per order: 21.39\n"
     ]
    }
   ],
   "source": [
    "# Step 16:\n",
    "average_revenue_per_order = revenue / total_orders\n",
    "\n",
    "# Rounding off to two decimal place\n",
    "average_revenue_per_order = round(average_revenue_per_order, 2)\n",
    "\n",
    "print(\"Average revenue per order:\", average_revenue_per_order)"
   ]
  },
  {
   "cell_type": "code",
   "execution_count": 367,
   "id": "f77bc926-0ec3-4e9d-a7fa-28a20d1d6470",
   "metadata": {},
   "outputs": [
    {
     "name": "stdout",
     "output_type": "stream",
     "text": [
      "Number of different items sold: 50\n"
     ]
    }
   ],
   "source": [
    "# Step 17: \n",
    "different_items_sold = chipo['item_name'].nunique()\n",
    "print(\"Number of different items sold:\", different_items_sold)"
   ]
  },
  {
   "cell_type": "markdown",
   "id": "57c37863-4856-46fd-a5c9-3d497658f0b6",
   "metadata": {},
   "source": [
    "Question 6:\n",
    "Create a line plot showing the number of marriages and divorces per capita in the\n",
    "U.S. between 1867 and 2014. Label both lines and show the legend.\n",
    "Don't forget to label your axes!"
   ]
  },
  {
   "cell_type": "code",
   "execution_count": 371,
   "id": "18f22f6b-cd50-4498-b2bf-888ce15d751e",
   "metadata": {},
   "outputs": [
    {
     "name": "stdout",
     "output_type": "stream",
     "text": [
      "   Year  Marriages  Divorces  Population  Marriages_per_1000  \\\n",
      "0  1867   357000.0   10000.0    36970000                 9.7   \n",
      "1  1868   345000.0   10000.0    37885000                 9.1   \n",
      "2  1869   348000.0   11000.0    38870000                 9.0   \n",
      "3  1870   352000.0   11000.0    39905000                 8.8   \n",
      "4  1871   359000.0   12000.0    41010000                 8.8   \n",
      "\n",
      "   Divorces_per_1000  \n",
      "0                0.3  \n",
      "1                0.3  \n",
      "2                0.3  \n",
      "3                0.3  \n",
      "4                0.3  \n"
     ]
    },
    {
     "data": {
      "image/png": "[encoded data removed]",
      "text/plain": [
       "<Figure size 1000x600 with 1 Axes>"
      ]
     },
     "metadata": {},
     "output_type": "display_data"
    }
   ],
   "source": [
    "import pandas as pd\n",
    "import matplotlib.pyplot as plt\n",
    "\n",
    "file_path = 'us-marriages-divorces-1867-2014.csv'\n",
    "data = pd.read_csv(file_path)\n",
    "\n",
    "print(data.head())\n",
    "\n",
    "plt.figure(figsize=(10, 6))\n",
    "\n",
    "plt.plot(data['Year'], data['Marriages_per_1000'], label='Marriages per Capita', color='blue', linestyle='-', marker='.')\n",
    "\n",
    "plt.plot(data['Year'], data['Divorces_per_1000'], label='Divorces per Capita', color='red', linestyle='-', marker='.')\n",
    "\n",
    "plt.xlabel('Timeline-Year')\n",
    "plt.ylabel('Per Capita (per 1000 people)')\n",
    "\n",
    "plt.title('Marriages and Divorces per Capita in the U.S. (1867-2014)')\n",
    "\n",
    "plt.legend()\n",
    "\n",
    "plt.grid(True)\n",
    "\n",
    "plt.show()"
   ]
  },
  {
   "cell_type": "markdown",
   "id": "fbb8bb17-32bf-4beb-822d-a8dbc0f17c78",
   "metadata": {},
   "source": [
    "Question 7:\n",
    "Create a vertical bar chart comparing the number of marriages and divorces per\n",
    "capita in the U.S. between 1900, 1950, and 2000.\n",
    "Don't forget to label your axes!"
   ]
  },
  {
   "cell_type": "code",
   "execution_count": 373,
   "id": "57152a6d-5280-455d-9f13-da95ade9923e",
   "metadata": {},
   "outputs": [
    {
     "data": {
      "image/png": "[encoded data removed]",
      "text/plain": [
       "<Figure size 1000x600 with 1 Axes>"
      ]
     },
     "metadata": {},
     "output_type": "display_data"
    }
   ],
   "source": [
    "import pandas as pd\n",
    "import matplotlib.pyplot as plt\n",
    "\n",
    "file_path = 'us-marriages-divorces-1867-2014.csv'\n",
    "data = pd.read_csv(file_path)\n",
    "\n",
    "filtered_data = data[(data['Year'] == 1900) | (data['Year'] == 1950) | (data['Year'] == 2000)]\n",
    "\n",
    "bar_width = 0.25\n",
    "r1 = range(len(filtered_data))\n",
    "r2 = [x + bar_width for x in r1]\n",
    "\n",
    "plt.figure(figsize=(10, 6))\n",
    "\n",
    "plt.bar(r1, filtered_data['Marriages_per_1000'], color='skyblue', width=bar_width, edgecolor='black', label='Marriages per Capita')\n",
    "plt.bar(r2, filtered_data['Divorces_per_1000'], color='lightgreen', width=bar_width, edgecolor='black', label='Divorces per Capita')\n",
    "\n",
    "plt.xlabel('Year')\n",
    "plt.ylabel('Per Capita (per 1000 people)')\n",
    "plt.xticks([r + bar_width/2 for r in range(len(filtered_data))], ['1900', '1950', '2000'])\n",
    "\n",
    "plt.title('Comparison of Marriages and Divorces per Capita in the U.S. (1900, 1950, 2000)', fontstyle='italic', fontweight='bold')\n",
    "\n",
    "plt.legend()\n",
    "\n",
    "plt.show()"
   ]
  },
  {
   "cell_type": "markdown",
   "id": "de2d7d16-d4b2-4479-9d71-b05f34525c19",
   "metadata": {},
   "source": [
    "Question 8:\n",
    "Create a horizontal bar chart that compares the deadliest actors in Hollywood. Sort\n",
    "the actors by their kill count and label each bar with the corresponding actor's name.\n",
    "Don't forget to label your axes!"
   ]
  },
  {
   "cell_type": "code",
   "execution_count": 375,
   "id": "4c0201b7-1594-4b8a-9fef-96caaa05b69b",
   "metadata": {},
   "outputs": [
    {
     "data": {
      "image/png": "[encoded data removed]",
      "text/plain": [
       "<Figure size 1000x800 with 1 Axes>"
      ]
     },
     "metadata": {},
     "output_type": "display_data"
    }
   ],
   "source": [
    "import pandas as pd\n",
    "import matplotlib.pyplot as plt\n",
    "\n",
    "file_path = 'actor_kill_counts.csv'\n",
    "data = pd.read_csv(file_path)\n",
    "\n",
    "data_sorted = data.sort_values(by='Count', ascending=True)\n",
    "\n",
    "plt.figure(figsize=(10, 8))\n",
    "\n",
    "plt.barh(data_sorted['Actor'], data_sorted['Count'], color='lightblue')\n",
    "\n",
    "plt.xlabel('Kill Count')\n",
    "plt.ylabel('Actors')\n",
    "plt.title('Deadliest Actors in Hollywood', fontstyle='italic', fontweight='bold')\n",
    "\n",
    "for index, value in enumerate(data_sorted['Count']):\n",
    "    plt.text(value, index, str(value))\n",
    "\n",
    "plt.show()"
   ]
  },
  {
   "cell_type": "markdown",
   "id": "1d8f7889-9814-4287-9368-e49d042e4bf8",
   "metadata": {},
   "source": [
    "Question 9:\n",
    "Create a pie chart showing the fraction of all Roman Emperors that were\n",
    "assassinated.\n",
    "Make sure that the pie chart is an even circle, labels the categories, and shows the\n",
    "percentage breakdown of the categories"
   ]
  },
  {
   "cell_type": "code",
   "execution_count": 377,
   "id": "9c48e5d1-a18d-4079-9d28-200ba541fc24",
   "metadata": {},
   "outputs": [
    {
     "data": {
      "image/png": "[encoded data removed]",
      "text/plain": [
       "<Figure size 800x800 with 1 Axes>"
      ]
     },
     "metadata": {},
     "output_type": "display_data"
    }
   ],
   "source": [
    "import pandas as pd\n",
    "import matplotlib.pyplot as plt\n",
    "\n",
    "file_path = 'roman-emperor-reigns.csv'\n",
    "data = pd.read_csv(file_path)\n",
    "\n",
    "assassinated = data[data['Cause_of_Death'] == 'Assassinated'].shape[0]\n",
    "total = data.shape[0]\n",
    "other_deaths = total - assassinated\n",
    "\n",
    "labels = ['Assassinated', 'Death by Other Causes']\n",
    "sizes = [assassinated, other_deaths]\n",
    "colors = ['lightgreen', 'lightblue']\n",
    "\n",
    "plt.figure(figsize=(8, 8))\n",
    "plt.pie(sizes, labels=labels, colors=colors, autopct='%1.1f%%', startangle=140, wedgeprops={'edgecolor': 'black'})\n",
    "\n",
    "plt.axis('equal')\n",
    "\n",
    "plt.title('Fraction of all Roman Emperors who were Assassinated', fontstyle='italic', fontweight='bold')\n",
    "\n",
    "plt.show()\n"
   ]
  },
  {
   "cell_type": "markdown",
   "id": "d6c8bf14-c87c-4eca-8a2d-d2dd95202032",
   "metadata": {},
   "source": [
    "Question 10:\n",
    "Create a scatter plot showing the relationship between the total revenue earned by\n",
    "arcades and the number of Computer Science PhDs awarded in the U.S. between\n",
    "2000 and 2009.\n",
    "Don't forget to label your axes!\n",
    "Color each dot according to its year."
   ]
  },
  {
   "cell_type": "code",
   "execution_count": 379,
   "id": "458ef82e-7c85-49b7-a92a-1f7ccc826efb",
   "metadata": {},
   "outputs": [
    {
     "data": {
      "image/png": "[encoded data removed]",
      "text/plain": [
       "<Figure size 1000x800 with 2 Axes>"
      ]
     },
     "metadata": {},
     "output_type": "display_data"
    }
   ],
   "source": [
    "import pandas as pd\n",
    "import matplotlib.pyplot as plt\n",
    "\n",
    "file_path = 'arcade-revenue-vs-cs-doctorates.csv'\n",
    "data = pd.read_csv(file_path)\n",
    "\n",
    "filtered_data = data[(data['Year'] >= 2000) & (data['Year'] <= 2009)]\n",
    "\n",
    "plt.figure(figsize=(10, 8))\n",
    "scatter = plt.scatter(filtered_data['Total Arcade Revenue (billions)'], \n",
    "                      filtered_data['Computer Science Doctorates Awarded (US)'], \n",
    "                      c=filtered_data['Year'], cmap='viridis', s=100)\n",
    "\n",
    "plt.colorbar(scatter, label='Year')\n",
    "\n",
    "plt.xlabel('Total Arcade Revenue (in billions)')\n",
    "plt.ylabel('Computer Science Doctorates Awarded in US')\n",
    "\n",
    "plt.title('Relationship between Arcade Revenue and Computer Science PhDs (2000-2009)' , fontstyle='italic', fontweight='bold')\n",
    "\n",
    "plt.show()"
   ]
  },
  {
   "cell_type": "code",
   "execution_count": null,
   "id": "582b7cda-3785-4118-b278-c698ec1c9d5e",
   "metadata": {},
   "outputs": [],
   "source": []
  }
 ],
 "metadata": {
  "kernelspec": {
   "display_name": "Python 3 (ipykernel)",
   "language": "python",
   "name": "python3"
  },
  "language_info": {
   "codemirror_mode": {
    "name": "ipython",
    "version": 3
   },
   "file_extension": ".py",
   "mimetype": "text/x-python",
   "name": "python",
   "nbconvert_exporter": "python",
   "pygments_lexer": "ipython3",
   "version": "3.12.4"
  }
 },
 "nbformat": 4,
 "nbformat_minor": 5
}
